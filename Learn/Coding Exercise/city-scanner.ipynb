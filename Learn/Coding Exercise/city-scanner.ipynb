{
 "cells": [
  {
   "cell_type": "markdown",
   "metadata": {
    "id": "Tua5G_M66FHU"
   },
   "source": [
    "![download.png](data:image/png;base64,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)\n",
    "\n",
    " ## **CityScanner: Introduction to Hyperlocal Environmental Sensing**\n",
    "\n",
    "\n",
    "---"
   ]
  },
  {
   "cell_type": "markdown",
   "metadata": {
    "id": "VORQBTSvCNQE"
   },
   "source": [
    "##Overview\n",
    "Engaging with and analyzing environmental data is a powerful tool to better understand the world around you. This notebook shows how to:\n",
    "\n",
    "*  Create time series graphs\n",
    "*  Develop basic maps with environmental data\n",
    "*   Perform clustering analysis on pollution hotspots\n"
   ]
  },
  {
   "cell_type": "markdown",
   "metadata": {
    "id": "kGpadfqr-MGV"
   },
   "source": [
    "##Prerequisites\n",
    "* An assigned **Jupyterhub account** "
   ]
  },
  {
   "cell_type": "markdown",
   "metadata": {
    "id": "bj81VYHH6VU1"
   },
   "source": [
    "##Part 0: Setup"
   ]
  },
  {
   "cell_type": "markdown",
   "metadata": {
    "id": "usSsjthx-ESY"
   },
   "source": [
    "***Start by logging in to <link here> with the user and password that you were assigned.***\n",
    "\n",
    "Here, we are going to call Python libraries - modules of code that allow us to have different types of functionality in our program."
   ]
  },
  {
   "cell_type": "code",
   "execution_count": null,
   "metadata": {
    "colab": {
     "base_uri": "https://localhost:8080/"
    },
    "executionInfo": {
     "elapsed": 19208,
     "status": "ok",
     "timestamp": 1661873566566,
     "user": {
      "displayName": "Sanjana Paul",
      "userId": "08616264229925743759"
     },
     "user_tz": 240
    },
    "id": "3eXXj4RUCPH5",
    "outputId": "01f87adb-2f55-49cd-fc52-d377916361be"
   },
   "outputs": [],
   "source": [
    "#Block 1\n",
    "#This block is going to allow the notebook to connect to the AWS S3 files that we need.\n",
    "!pip install s3fs\n",
    "import s3fs"
   ]
  },
  {
   "cell_type": "code",
   "execution_count": null,
   "metadata": {
    "id": "13Vjj4sdCV7n"
   },
   "outputs": [],
   "source": [
    "#Block 1\n",
    "#here, we install the tools we are going to use to make some maps and geolocate, called Folium and Geopy.\n",
    "!pip install folium\n",
    "!pip install geopy\n",
    "!pip install shapely"
   ]
  },
  {
   "cell_type": "code",
   "execution_count": null,
   "metadata": {
    "id": "YWUKKhZjCtrk"
   },
   "outputs": [],
   "source": [
    "#Block 2\n",
    "\n",
    "#this block of code is where we get the infrastructure for the notebook set up, by calling libraries\n",
    "import csv\n",
    "import numpy as np\n",
    "\n",
    "#these libraries will help us read in and format the data correctly\n",
    "import pytz\n",
    "import time\n",
    "import pandas as pd\n",
    "from datetime import datetime\n",
    "import os\n",
    "\n",
    "#these libraries will help us with our time series analysis\n",
    "from matplotlib import pyplot as plt\n",
    "from matplotlib import ticker as mticker\n",
    "import matplotlib.dates as mdates\n",
    "\n",
    "#these libraries will support the mapping work\n",
    "import folium \n",
    "from folium import plugins\n",
    "import branca.colormap as cm\n",
    "from matplotlib.dates import DateFormatter\n",
    "from sklearn.cluster import DBSCAN\n",
    "from geopy.distance import great_circle\n",
    "from shapely.geometry import MultiPoint"
   ]
  },
  {
   "cell_type": "markdown",
   "metadata": {
    "id": "cbvZBvmzDTcB"
   },
   "source": [
    "## Part 1 -Time Series \n"
   ]
  },
  {
   "cell_type": "markdown",
   "metadata": {
    "id": "H0IXuueNDV1c"
   },
   "source": [
    "Now, we will read in the data from a CityScanner deployment in The Bronx, New York City. "
   ]
  },
  {
   "cell_type": "code",
   "execution_count": null,
   "metadata": {
    "id": "xzfWQgxvDUzq"
   },
   "outputs": [],
   "source": [
    "#Block 3\n",
    "# Enter your assigned username here!\n",
    "name = \"user1\"\n",
    "#below are the files for temp/humidity, PM and NO2 data. \n",
    "th = f\"s3://aws-logs-436312947046-us-east-1/elasticmapreduce/workshop//jupyter/{name}/data/nyc3_data_latest_short.csv\"\n",
    "pm = f\"s3://aws-logs-436312947046-us-east-1/elasticmapreduce/workshop//jupyter/{name}/data/CSMain_PMBckadj_Short.csv\"\n",
    "no2 = f\"s3://aws-logs-436312947046-us-east-1/elasticmapreduce/workshop//jupyter/{name}/data/CSMain_NO2Bckadj_Short.csv\"\n",
    "\n",
    "#the line of code below reads in the data file for temperature and humidity data!\n",
    "thdata = pd.read_csv(th) #contents of data\n",
    "pmdata = pd.read_csv(pm) #contents of data\n",
    "no2data = pd.read_csv(no2) #contents of data\n"
   ]
  },
  {
   "cell_type": "markdown",
   "metadata": {
    "id": "27W_f_O8EHAm"
   },
   "source": [
    "Then we set the timezone so the code knows what it is, and print ourselves a message to verify we read it in correctly."
   ]
  },
  {
   "cell_type": "code",
   "execution_count": null,
   "metadata": {
    "colab": {
     "base_uri": "https://localhost:8080/"
    },
    "executionInfo": {
     "elapsed": 249,
     "status": "ok",
     "timestamp": 1661873705863,
     "user": {
      "displayName": "Sanjana Paul",
      "userId": "08616264229925743759"
     },
     "user_tz": 240
    },
    "id": "mZm74RETD0SJ",
    "outputId": "67a58c02-7577-4f21-e85b-954ba5376b26"
   },
   "outputs": [],
   "source": [
    "#Block 4\n",
    "tz = pytz.timezone('US/Eastern')\n",
    "print(\"Data read\")"
   ]
  },
  {
   "cell_type": "code",
   "execution_count": null,
   "metadata": {
    "id": "DEiXFB7ln8ey"
   },
   "outputs": [],
   "source": [
    "#Block 5\n",
    "\n",
    "#here, we will show the first few lines of the data files. Check out what the start date and times are! \n",
    "thdata.head()\n",
    "\n",
    "#uncomment the line below to see the start of the PM data file!\n",
    "# pmdata.head()\n",
    "\n",
    "#uncomment the line below to see the start of the NO2 data file!\n",
    "# no2data.head()"
   ]
  },
  {
   "cell_type": "code",
   "execution_count": null,
   "metadata": {
    "id": "hb2OVhj4pNRF"
   },
   "outputs": [],
   "source": [
    "#Block 6\n",
    "#here, we will show the last few lines of the data files. Check out what the ending date and times are! \n",
    "thdata.tail()\n",
    "\n",
    "#uncomment the line below to see the end of the PM data file!\n",
    "#pmdata.tail()\n",
    "\n",
    "#uncomment the line below to see the end of the NO2 data file!\n",
    "#no2data.tail()"
   ]
  },
  {
   "cell_type": "markdown",
   "metadata": {
    "id": "CbVIaFH0EQgN"
   },
   "source": [
    "Time to warm up with a map. Let's find some parameters from the deployment in time series - let's start with temperature and then try PM2.5! \n",
    "\n",
    "Let's get some basic information about temperature from this deployment - \n",
    "- The average temperature the devices saw\n",
    "- The maximum temperatures the devices saw\n",
    "- The minimum temperature the devices saw "
   ]
  },
  {
   "cell_type": "code",
   "execution_count": null,
   "metadata": {
    "colab": {
     "base_uri": "https://localhost:8080/"
    },
    "executionInfo": {
     "elapsed": 211,
     "status": "ok",
     "timestamp": 1661873709170,
     "user": {
      "displayName": "Sanjana Paul",
      "userId": "08616264229925743759"
     },
     "user_tz": 240
    },
    "id": "HjjNjtnNEWru",
    "outputId": "b640aa83-2e35-4c99-de55-ee166417024a"
   },
   "outputs": [],
   "source": [
    "#Block 7\n",
    "avg = pmdata['tmpf'].mean()\n",
    "maximum = pmdata['tmpf'].max()\n",
    "minimum = pmdata ['tmpf'].min()\n",
    "\n",
    "\n",
    "#now that we have those values, let's print them out so we can take a look\n",
    "print(\"Avg value\",avg, \"Max value\",maximum, \"Min value\",minimum)\n",
    "\n",
    "\n",
    "#th file variable names\n",
    "#tmpf, humidity, noise\n",
    "\n",
    "#pm file variable names\n",
    "#Bckadj_PM\n",
    "\n",
    "#no2 file variable names \n",
    "#Bckadj_NO2"
   ]
  },
  {
   "cell_type": "markdown",
   "metadata": {
    "id": "viMnLQ24EZhS"
   },
   "source": [
    "Now let's make a plot of the total temperature during the time we have collected the data for."
   ]
  },
  {
   "cell_type": "code",
   "execution_count": null,
   "metadata": {
    "id": "SSca2s6NEakk"
   },
   "outputs": [],
   "source": [
    "#Block 8\n",
    "fig, ax = plt.subplots(figsize=(20, 8))\n",
    "plt.plot(thdata[\"localtime\"], thdata[\"temperature\"], 'r')\n",
    "ax.set(xlabel=\"localtime\",\n",
    "       ylabel=\"Temp(C)\",\n",
    "       title=\"Time Series\")\n",
    "tick_spacing = 6000\n",
    "ax.xaxis.set_major_locator(mticker.MultipleLocator(tick_spacing))\n",
    "plt.xticks(rotation=45)\n",
    "plt.show()\n"
   ]
  },
  {
   "cell_type": "code",
   "execution_count": null,
   "metadata": {
    "colab": {
     "base_uri": "https://localhost:8080/",
     "height": 235
    },
    "executionInfo": {
     "elapsed": 4,
     "status": "error",
     "timestamp": 1661940626779,
     "user": {
      "displayName": "Simone Mora",
      "userId": "10303225584823490092"
     },
     "user_tz": -120
    },
    "id": "u36aF_t8MdHP",
    "outputId": "47d2b5ec-f6f4-41d2-d322-6efac4ec8632"
   },
   "outputs": [],
   "source": [
    "#Block 9\n",
    "#this is a helpful image, but what if we just want to know the time series for one week, or another period of time?\n",
    "#we can select the time we want to create a time series for using the code below.\n",
    "\n",
    "fig, ax = plt.subplots(figsize=(20, 8))\n",
    "plt.plot(thdata[\"localtime\"], thdata[\"temperature\"], 'r')\n",
    "\n",
    "ax.set(xlabel=\"localtime\",\n",
    "       ylabel=\"Temp(C)\",\n",
    "       title=\"Time Series\",\n",
    "       xlim=[\"2021/11/02 09:33\", \"2021/11/02 09:42\"]) #set the time range you are interested in using in the square brackets!\n",
    "tick_spacing = 20                                                     #play with this number to increase or decrease the number of x axis labels\n",
    "ax.xaxis.set_major_locator(mticker.MultipleLocator(tick_spacing))\n",
    "plt.xticks(rotation=45)\n",
    "plt.show() \n",
    "\n",
    "#you can modify the pm and no2 files using a similar structure as above! "
   ]
  },
  {
   "cell_type": "markdown",
   "metadata": {
    "id": "v2z-zf1BEe9A"
   },
   "source": [
    "Great - now replace the temperature parameters with humidity, and even pm2.5 or no2 from the other data files. Rerun the code and see what you get! What does the data tell you? "
   ]
  },
  {
   "cell_type": "markdown",
   "metadata": {
    "id": "zUg_cyJYEkSV"
   },
   "source": [
    "## Part 2 - Mapping + Hotspot Analysis "
   ]
  },
  {
   "cell_type": "markdown",
   "metadata": {
    "id": "cXke38SeujA_"
   },
   "source": [
    "Now that we created some time series graphs, we will work on creating maps. Let's start with a PM2.5 map! "
   ]
  },
  {
   "cell_type": "code",
   "execution_count": null,
   "metadata": {
    "id": "sWedGixPI2YD"
   },
   "outputs": [],
   "source": [
    "#Block 10\n",
    "#we're going to make a map. we start by setting a center point for the map to display the data\n",
    "coords = pmdata.loc[:,['latitude','longitude']].values #lat and lon are collected from CityScanner GPS\n",
    "start_point=coords[0]"
   ]
  },
  {
   "cell_type": "code",
   "execution_count": null,
   "metadata": {
    "id": "ZkffXUDPExOv"
   },
   "outputs": [],
   "source": [
    "#Block 11\n",
    "#here, we set up the specifications for the map\n",
    "newmap = folium.Map(location= start_point, tiles='Stamen Terrain', zoom_start=14)\n",
    "colormap = cm.LinearColormap(colors=['blue', 'green', 'yellow'], vmin=0, vmax=21)\n",
    "colormap.caption = 'PM 2.5 (ug/m^3)' #change this to represent the variable of interest! \n",
    "colormap.add_to(newmap)\n",
    "\n",
    "#this will loop through the data and show us where it's coming from\n",
    "#each point on the map will display the PM2.5 value from that spot, in micrograms per cubic meter.\n",
    "\n",
    "pmdata_size = len(pmdata)\n",
    "for i,row in pmdata.iterrows():\n",
    "    #folium.CircleMarker((row.latitude,row.longitude), radius=4, weight=1, color='blue', fill_color='blue', fill_opacity=.5, popup=(row.Bckadj_PM)).add_to(newmap)\n",
    "    if i > pmdata_size:\n",
    "        break\n",
    "    folium.CircleMarker((row.latitude,row.longitude), radius=4, weight=1, color=colormap(pmdata.iloc[i]['Bckadj_PM']), fill ='true', fill_opacity=.5, popup=(row.Bckadj_PM)).add_to(newmap)\n",
    "    \n",
    "newmap.add_child(colormap)\n",
    "newmap\n",
    "\n",
    "\n",
    "#note - you can also create a map for a subset of the total deployment time by calling the \"thdatamod\", \"pmdatamod\", or \"no2datamod\" variable above!"
   ]
  },
  {
   "cell_type": "markdown",
   "metadata": {
    "id": "w8nJTimAE0QG"
   },
   "source": [
    "Now that we have our point map, showing us where pm2.5 values and potential hotspot locations are, let's do some clustering. This will allow us to see where multiple measurements exceed the threshold value, potentially indicating a local source of pollution or pollution transport."
   ]
  },
  {
   "cell_type": "code",
   "execution_count": null,
   "metadata": {
    "id": "Ipdf0LaIE06v"
   },
   "outputs": [],
   "source": [
    "#Block 12\n",
    "#let's start by setting 10 as the threshold value. Change this and see how the number of hotspots changes! \n",
    "pmdata = pmdata.loc[(pmdata['Bckadj_PM'] > 10)]"
   ]
  },
  {
   "cell_type": "code",
   "execution_count": null,
   "metadata": {
    "id": "z_nsLAwiE9tc"
   },
   "outputs": [],
   "source": [
    "#Block 13\n",
    "#hierarchical clustering code \n",
    "\n",
    "# bottom-up hierarchical clustering - agglomerative, not k-means, because number of clusters not defined before\n",
    "hotspots = pmdata \n",
    "coords = hotspots.loc[:,['latitude','longitude']].values\n",
    "\n",
    "#preprocessing for hotspot clustering\n",
    "#we have to convert to radians, because scikit-learn’s haversine metric needs radian units\n",
    "kms_per_radian = 6371.0088 \n",
    "\n",
    "#epsilon is the max distance points can be from each other to count as a cluster\n",
    "epsilon = 0.1 / kms_per_radian \n",
    "\n",
    "#min_samples is the minimum cluster size for a hotspot to be formed, and here we also call the haversine metric\n",
    "db = DBSCAN(eps=epsilon, min_samples=10, algorithm='ball_tree', metric='haversine').fit(np.radians(coords))\n",
    "cluster_labels = db.labels_\n",
    "num_clusters = len(set(cluster_labels))-(1 if -1 in set(cluster_labels) else 0)\n",
    "outliers = coords[cluster_labels == -1]\n",
    "\n",
    "#here is where we create the clusters after doing the background math above\n",
    "clusters = pd.Series([coords[cluster_labels == n] for n in range(num_clusters)])\n",
    "outliers = coords[cluster_labels == -1]\n",
    "print('Number of clusters: {}'.format(num_clusters))\n",
    "\n"
   ]
  },
  {
   "cell_type": "code",
   "execution_count": null,
   "metadata": {
    "id": "vm1OLcEoFAba"
   },
   "outputs": [],
   "source": [
    "#Block 14\n",
    "#this portion of the code is going to tell us where the map should show up!\n",
    "def get_centermost_point(cluster):\n",
    "    centroid = (MultiPoint(cluster).centroid.x, MultiPoint(cluster).centroid.y)\n",
    "    centermost_point = min(cluster, key=lambda point: great_circle(point, centroid).m)\n",
    "    return tuple(centermost_point)\n",
    "                                                                \n",
    "centermost_points = clusters.map(get_centermost_point)\n",
    "start_point=centermost_points[0]\n",
    "\n",
    "#setting up the specifications for the map\n",
    "hotspotmap = folium.Map(location= start_point, tiles='Stamen Terrain', zoom_start=14)\n",
    "points=[]\n",
    "#add a markers\n",
    "for index, row in hotspots.iterrows():\n",
    "    point=(row['latitude'], row['longitude'])\n",
    "    if point not in points:\n",
    "        new_point=(row['latitude'], row['longitude'])\n",
    "        points.append(new_point)      \n",
    "for rep in centermost_points:\n",
    "    folium.CircleMarker(location=rep, color='blue', fill=True, fill_color='blue',radius=15).add_to(hotspotmap)\n",
    "for each in points:\n",
    "    folium.CircleMarker(location=each, popup=(row.Bckadj_PM), color='red', fill=True, fill_color='red',radius=7).add_to(hotspotmap)\n",
    "    hotspotmap.add_child(folium.LatLngPopup())\n",
    "  \n",
    "\n",
    "#interactive html map showing hotspot clusters\n",
    "hotspotmap"
   ]
  },
  {
   "cell_type": "markdown",
   "metadata": {
    "id": "5Ksng8kp-Rn2"
   },
   "source": [
    "##Summary\n",
    "Now that you have finished going through this notebook, you should be able to create time series graphs, basic maps, and perform clustering analysis techniques on hyperlocal environmental data. Additionally, you should have a basic knowledge of some of the different pollutants that can be measured to tell us more about the quality of our immediate environment.\n",
    "\n"
   ]
  },
  {
   "cell_type": "markdown",
   "metadata": {
    "id": "TLoRhnYhrq1o"
   },
   "source": []
  },
  {
   "cell_type": "markdown",
   "metadata": {
    "id": "SuSBwJP8-x-y"
   },
   "source": [
    "##Resources and references\n",
    "Below you can find links to some of the CityScanner papers, some of the reference materials shown in the presentation, and some reference documentation for some of the python libraries! "
   ]
  },
  {
   "cell_type": "markdown",
   "metadata": {
    "id": "soNPHzWGhSkg"
   },
   "source": [
    "CityScanner Papers:\n",
    "*   [Challenges of Drive-By IoT Sensing for Smart Cities: City Scanner Case Study](https://senseable.mit.edu/papers/pdf/20181012_Anjomshooa-etal_ChallengesDrive-by_Purba.pdf)\n",
    "*  [ City Scanner: Building and Scheduling a Mobile\n",
    "Sensing Platform for Smart City Services](https://senseable.mit.edu/papers/pdf/20180522_Anjomshoaa-etal_CityScanner_IEEE-IoT.pdf)\n",
    "* [Air quality monitoring using mobile low-cost sensors mounted on trashtrucks: Methods development and lessons learned](https://senseable.mit.edu/papers/pdf/20200601_deSouza-etal_AirQuality_SCS.pdf)\n",
    "\n",
    "Reference Materials:\n",
    "*  [NYCCAS Data](https://nyc-ehs.net/nyccas2020/web/report#Pollutant_Maps)\n",
    "*  [United States EPA](https://www.epa.gov/)\n",
    "*  [World Health Organization](https://www.who.int/)\n",
    "\n",
    "Python Library Documentation:\n",
    "*  [Folium](http://python-visualization.github.io/folium/)\n",
    "*  [Pandas](https://pandas.pydata.org/)\n",
    "* [Matplotlib](https://matplotlib.org/)\n",
    "\n",
    "\n"
   ]
  }
 ],
 "metadata": {
  "colab": {
   "collapsed_sections": [],
   "provenance": []
  },
  "kernelspec": {
   "display_name": "Python 3",
   "language": "python",
   "name": "python3"
  },
  "language_info": {
   "codemirror_mode": {
    "name": "ipython",
    "version": 3
   },
   "file_extension": ".py",
   "mimetype": "text/x-python",
   "name": "python",
   "nbconvert_exporter": "python",
   "pygments_lexer": "ipython3",
   "version": "3.8.8"
  },
  "vscode": {
   "interpreter": {
    "hash": "31f2aee4e71d21fbe5cf8b01ff0e069b9275f58929596ceb00d14d90e3e16cd6"
   }
  }
 },
 "nbformat": 4,
 "nbformat_minor": 1
}
